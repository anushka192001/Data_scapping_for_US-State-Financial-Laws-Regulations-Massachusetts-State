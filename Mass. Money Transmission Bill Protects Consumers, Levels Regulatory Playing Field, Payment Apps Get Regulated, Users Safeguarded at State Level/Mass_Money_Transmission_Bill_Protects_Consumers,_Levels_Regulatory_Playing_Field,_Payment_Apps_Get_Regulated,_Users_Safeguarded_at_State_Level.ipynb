{
  "nbformat": 4,
  "nbformat_minor": 0,
  "metadata": {
    "colab": {
      "provenance": []
    },
    "kernelspec": {
      "name": "python3",
      "display_name": "Python 3"
    },
    "language_info": {
      "name": "python"
    }
  },
  "cells": [
    {
      "cell_type": "code",
      "source": [
        "import requests\n",
        "from bs4 import BeautifulSoup\n",
        "from datetime import datetime\n",
        "import pytz\n",
        "!pip install PyMuPDF requests\n",
        "\n",
        "ist = pytz.timezone('Asia/Kolkata')"
      ],
      "metadata": {
        "colab": {
          "base_uri": "https://localhost:8080/"
        },
        "id": "w2zyJmn7DCMn",
        "outputId": "929e00a1-e856-4de4-86e9-0546017c3f22"
      },
      "execution_count": 1,
      "outputs": [
        {
          "output_type": "stream",
          "name": "stdout",
          "text": [
            "Collecting PyMuPDF\n",
            "  Downloading PyMuPDF-1.24.5-cp310-none-manylinux2014_x86_64.whl (3.5 MB)\n",
            "\u001b[2K     \u001b[90m━━━━━━━━━━━━━━━━━━━━━━━━━━━━━━━━━━━━━━━━\u001b[0m \u001b[32m3.5/3.5 MB\u001b[0m \u001b[31m12.4 MB/s\u001b[0m eta \u001b[36m0:00:00\u001b[0m\n",
            "\u001b[?25hRequirement already satisfied: requests in /usr/local/lib/python3.10/dist-packages (2.31.0)\n",
            "Collecting PyMuPDFb==1.24.3 (from PyMuPDF)\n",
            "  Downloading PyMuPDFb-1.24.3-py3-none-manylinux2014_x86_64.manylinux_2_17_x86_64.whl (15.8 MB)\n",
            "\u001b[2K     \u001b[90m━━━━━━━━━━━━━━━━━━━━━━━━━━━━━━━━━━━━━━━━\u001b[0m \u001b[32m15.8/15.8 MB\u001b[0m \u001b[31m34.7 MB/s\u001b[0m eta \u001b[36m0:00:00\u001b[0m\n",
            "\u001b[?25hRequirement already satisfied: charset-normalizer<4,>=2 in /usr/local/lib/python3.10/dist-packages (from requests) (3.3.2)\n",
            "Requirement already satisfied: idna<4,>=2.5 in /usr/local/lib/python3.10/dist-packages (from requests) (3.7)\n",
            "Requirement already satisfied: urllib3<3,>=1.21.1 in /usr/local/lib/python3.10/dist-packages (from requests) (2.0.7)\n",
            "Requirement already satisfied: certifi>=2017.4.17 in /usr/local/lib/python3.10/dist-packages (from requests) (2024.6.2)\n",
            "Installing collected packages: PyMuPDFb, PyMuPDF\n",
            "Successfully installed PyMuPDF-1.24.5 PyMuPDFb-1.24.3\n"
          ]
        }
      ]
    },
    {
      "cell_type": "code",
      "source": [],
      "metadata": {
        "id": "MCLetHXbkanD"
      },
      "execution_count": null,
      "outputs": []
    },
    {
      "cell_type": "code",
      "source": [
        "import requests\n",
        "from bs4 import BeautifulSoup\n",
        "\n",
        "# Replace with the URL of the web page you want to scrape\n",
        "url = \"https://bankerandtradesman.com/mass-money-transmission-bill-protects-consumers-levels-regulatory-playing-field/\"\n",
        "\n",
        "# Set headers to mimic a browser request\n",
        "headers = {\n",
        "    \"User-Agent\": \"Mozilla/5.0 (Windows NT 10.0; Win64; x64) AppleWebKit/537.36 (KHTML, like Gecko) Chrome/91.0.4472.124 Safari/537.36\"\n",
        "}\n",
        "\n",
        "# Send a GET request to the URL with headers\n",
        "response = requests.get(url, headers=headers)\n",
        "\n",
        "text= ''\n",
        "print(response.status_code)\n",
        "# Check if the request was successful\n",
        "if response.status_code == 200:\n",
        "    # Parse the HTML content of the page\n",
        "    soup = BeautifulSoup(response.content, 'html.parser')\n",
        "\n",
        "    # Find the specific <div> element by its class name\n",
        "    container_divs = soup.find_all('div', class_=\"entry-content bq-left\")\n",
        "\n",
        "    # Check if the div element was found\n",
        "    for container_div in container_divs:\n",
        "     if container_div:\n",
        "        # Find all <p> tags within the container div, regardless of nesting\n",
        "        paragraphs = container_div.find_all('p')\n",
        "\n",
        "        # Extract and print the text from each paragraph\n",
        "        for p in paragraphs:\n",
        "            text+=p.get_text()\n",
        "     else:\n",
        "        print(\"Div element not found\")\n",
        "else:\n",
        "    print(f\"Failed to retrieve the web page. Status code: {response.status_code}\")\n"
      ],
      "metadata": {
        "id": "-AYnfEunRotl",
        "colab": {
          "base_uri": "https://localhost:8080/"
        },
        "outputId": "55c854f9-d169-4d91-ea78-5c4e962ebbaa"
      },
      "execution_count": 6,
      "outputs": [
        {
          "output_type": "stream",
          "name": "stdout",
          "text": [
            "200\n"
          ]
        }
      ]
    },
    {
      "cell_type": "code",
      "source": [
        "text"
      ],
      "metadata": {
        "colab": {
          "base_uri": "https://localhost:8080/",
          "height": 750
        },
        "id": "iAHuxoBZjA89",
        "outputId": "4f3641df-5f3c-408d-9db6-028a09299ae5"
      },
      "execution_count": 7,
      "outputs": [
        {
          "output_type": "execute_result",
          "data": {
            "text/plain": [
              "'Mary GallagherVenmo, PayPal, CashApp. Chances are you are using a money transmission platform like these, or someone you know is. In 2022, Massachusetts residents transmitted an astounding $22 billion in 172 million peer-to-peer payments across the state and nation – with zero state regulatory oversight.Those using these platforms may think their transactions are protected by a federal regulator such as the Federal Deposit Insurance Corp. or the Federal Reserve. They are not. The reality is that state financial regulators are the authority for this activity – but not here in Massachusetts.The Massachusetts Division of Banks (DOB), where I serve as commissioner, currently licenses and examines companies which transmit money to foreign countries only (by statute). However, there is no regulatory oversight in the commonwealth for transfers of money between individuals or entities within the United States, commonly referred to as “domestic” money transmissions. This means, for example, that if your account is hacked or your money transfer is compromised in any way, you are not protected by state oversight and there is little that can be done to right the wrong.It is worth noting that domestic transmission activity dwarfs the regulated space of foreign transmission, where just $10 billion was transmitted in 32 million transactions, according to NMLS call reports reviewed by DOB staff. So, in Massachusetts, the existing regulatory framework accounts for only 12 percent of the total transaction volume and just 27 percent of the total dollars transmitted.“An Act relative to the regulation of money transmission by the Division of Banks” (H.1106), sponsored by state Rep. James M. Murphy (D-Weymouth), aims to change this. Given the millions of transactions and billions of dollars flowing through money transmission applications – a volume that increased by 55 percent from 2020 to 2022 – this bill is a legislative priority for the DOB.How the Bill WorksBy modernizing existing Massachusetts law governing money transmission services to reflect the current day marketplace, H.1106 will bring Massachusetts in line with the rest of the country in protecting consumers engaging in money transfers. As it currently stands, Massachusetts is the only state (of 49 that regulate money transmission) that has not enacted legislation to regulate domestic money transmissions amongst its consumers. The current state law was last updated in 1991 and still includes technology references from the early 1900s. H.1106 will catapult the law into the 21st century.While expanding Massachusetts’ reputation for strong consumer protections, H.1106 will also level the playing field for regulations across businesses. For example, DOB currently oversees banks and credit unions who offer these same services subject to significant regulatory oversight. H.1106 would establish consistent supervision for non-bank entities offering the same services.Currently, DOB has no insight into the financial or compliance position of non-bank companies offering domestic money transfers in Massachusetts. Therefore, DOB is not able to provide any assistance to Massachusetts consumers should they be harmed by these currently unregulated entities. This bill would establish a single statutory framework for the licensing, examination and regulation by DOB for all money transmitters, both foreign and domestic, in the commonwealth.Bill Has Industry SupportIndustry support for H.1106 is both broad and strong. Notably, six trade associations representing a diverse membership of professionals in the payments industry, have offered supportive testimony: The Money Services Business Association, Technet, The Electronic Transactions Association, The Money Services Round Table, The Financial Technology Association and The Money Services Business Association. In addition, Western Union and the Massachusetts Bankers Association have offered support.Our commitment to this effort includes active engagement in a state-led model law effort across the country. Since 2022, state banking departments have built a coalition with the industry’s largest players in the money transmission arena. H.1106 uses the Conference of State Bank Supervisors’ model law as its foundation with a goal of aligning with this multi-state effort particularly as the activity happens across state lines. In current legislative sessions to date, 16 states have already passed the model law either in its entirety or with key substantive provisions. In addition, there are five states with bills pending, consistent with the model law – including Massachusetts H.1106.By adopting the model law framework, states are moving toward uniform nationwide standards that enhance regulatory efficiencies and reduce the regulatory burden on the industry. The goal of this “networked supervision” approach is to create an inclusive national system using common policies to prioritize work based on risk and resource availability.So, next time you Venmo a friend your half of the dinner check, think about H.1106. Without this bill’s enactment, your transfer app payments occur without regulatory oversight and are not protected. Whether you are a consumer using money transmission apps, or an industry professional offering these services, H.1106 is a win-win. I invite you to learn more about this important legislation at malegislature.gov/Bills/193/H1106.Mary Gallagher is the commissioner of the Massachusetts Division of Banks, the state’s primary regulator for financial service providers.'"
            ],
            "application/vnd.google.colaboratory.intrinsic+json": {
              "type": "string"
            }
          },
          "metadata": {},
          "execution_count": 7
        }
      ]
    },
    {
      "cell_type": "code",
      "source": [
        "text"
      ],
      "metadata": {
        "colab": {
          "base_uri": "https://localhost:8080/",
          "height": 214
        },
        "id": "IykjhBZZT514",
        "outputId": "479c3d29-f232-48e5-9659-59f6c5b630e6"
      },
      "execution_count": null,
      "outputs": [
        {
          "output_type": "execute_result",
          "data": {
            "text/plain": [
              "'This directory includes laws, regulations and industry guidelines with significant security and privacy impact and requirements. Each entry includes a link to the full text of the law or regulation as well as information about what and who is covered.CSO updates this directory, originally published on January 28, 2021, frequently as new laws and regulations are put in place.Click on a link to skip to information and resources on that law:Purpose:\\xa0Enacted in 2002, the\\xa0Sarbanes-Oxley Act\\xa0is designed to protect investors and the public by increasing the accuracy and reliability of corporate disclosures. It was enacted after the high-profile Enron and WorldCom financial scandals of the early 2000s. It is administered by the Securities and Exchange Commission, which publishes SOX rules and requirements defining audit requirements and the records businesses should store and for how long.To whom it applies:\\xa0US public company boards, management, and public accounting firms.Key points for CISOs:\\xa0SOX places requirements around maintaining integrity and availability of financial data, and controls for who has access to that data. Specific rules need to be in place for:More about Sarbanes-Oxley:The Sarbanes-Oxley Act explained: Definition, purpose and provisionsReturn to topPurpose:\\xa0PCI DSS, which is administered by the\\xa0Payment Card Industry Security Standards Council, establishes cybersecurity controls and business practices that any company that accepts credit card payments must implement.To whom it applies:\\xa0Any entity that stores, processes, or transmits cardholder data–any organization that accepts credit card payments.Key points for CISOs:\\xa0PCI DSS has 12 security requirements for merchants:More about PCI DSSPCI DSS explained: Requirements, fines and steps to complianceReturn to topPurpose:\\xa0The European Union’s PSD2 went into effect in September 2019 and sets security and authentication requirements for online transactions.To whom it applies: Any Europe-based organization that processes credit card transactions and European banks and financial institutions.Key points for CISOs: PSD2 requires multi-factor authentication for European payment card transactions. It also requires banks and other financial institutions to give third-party payment service providers access to consumer bank accounts if account holders give consent.More about PSD2What is PSD2? And how it will impact the payments processing industryPurpose:\\xa0Also known as the Financial Modernization Act of 1999, the\\xa0GLB Act\\xa0includes provisions to protect consumers’ personal financial information held by financial institutions. Its three principal parts to the privacy requirements are: the Financial Privacy Rule, the Safeguards Rule and pretexting provisions.To whom it applies:\\xa0Financial institutions (banks, securities firms, insurance companies) and companies providing financial products and services to consumers (including lending, brokering or servicing any type of consumer loan; transferring or safeguarding money; preparing individual tax returns; providing financial advice or credit counseling; providing residential real estate settlement services; collecting consumer debts).Key points for CISOs:\\xa0The privacy requirements of GLB include three principal parts:More on GLBA:GLBA explained: What the Graham-Leach-Bailey Act means for privacy and IT securityReturn to topPurpose:\\xa0C-TPAT\\xa0is a worldwide supply chain security initiative established in 2004. It is a voluntary initiative run by US Customs and Border Protection, with the goals of preventing terrorists and terrorist weapons from entering the US. It is designed to build cooperative government-business relationships that strengthen and improve the overall international supply chain and US border security. Businesses are asked to ensure the integrity of their security practices and communicate and verify the security guidelines of their business partners within the supply chain.Benefits for participating in C-TPAT include a reduced number of CBP inspections, priority processing for CBP inspections, assignment of a C-TPAT supply chain security specialist to validate security throughout the company’s supply chain and more.To whom it applies:\\xa0Trade-related businesses, such as importers, carriers, consolidators, logistics providers, licensed customs brokers and manufacturers.Key points for CISOs:\\xa0C-TPAT relies on a multi-layered approach consisting of the following five goals:C-TPAT security criteria encompass:Return to topPurpose:\\xa0FAST\\xa0is a voluntary commercial clearance program run by US Customs and Border Protection for pre-approved, low-risk goods entering the US from Canada and Mexico. Initiated after 9/11, the program allows for expedited processing for commercial carriers who have completed background checks and fulfill certain eligibility requirements. Participation in FAST requires that every link in the supply chain — from manufacturer to carrier to driver to importer — is certified under the C-TPAT program (see above).To whom it applies:\\xa0Importers, carriers, consolidators, licensed customs brokers and manufacturers.Key points for CISOs:\\xa0Highway carriers authorized to use the FAST/C-TPAT program need to meet the following security-related requirements:Return to topPurpose:\\xa0COPPA, which took effect in 2000, applies to the online collection of personal information from children under 13. Monitored by the Federal Trade Commission (FTC), the rules limit how companies may collect and disclose children’s personal information. They codify what a website operator must include in a privacy policy, when and how to seek verifiable consent from a parent and what responsibilities an operator must protect children’s privacy and safety online.To whom it applies:\\xa0Operators of commercial websites and online services directed to children under 13 that collect personal information from children, as well as general audience websites with knowledge they are collecting personal information from children.Key points for CISOs:\\xa0COPPA requires:More on COPPA:COPPA explained: How this law protects children’s privacyReturn to topPurpose:\\xa0Passed in December 2003,\\xa0FACTA\\xa0is an amendment to the Fair Credit Reporting Act that is intended to help consumers avoid identity theft. Accuracy, privacy, limits on information sharing, and new consumer rights to disclosure are included in the legislation. The Act also says businesses in possession of consumer information or information derived from consumer reports must properly dispose of the information.The\\xa0Red Flags Rule\\xa0establishes new provisions within FACTA requiring financial institutions, creditors, etc. to develop and implement an identity theft prevention program.To whom it applies:\\xa0Credit bureaus, credit reporting agencies, financial institutions, any business that uses a consumer report and creditors. As defined by FACTA, a creditor is anyone who provides products or services and bill for payment.Key points for CISOs:\\xa0FACTA includes the following key provisions:Return to topPurpose:\\xa0In place since 1938, the\\xa0FRCP\\xa0discovery rules govern court procedures for civil lawsuits. The first major revisions, made in 2006, make clear that electronically stored information is discoverable, and they detail what, how and when electronic data must be produced. As a result, companies must know what data they are storing and where it is. They need policies in place to manage electronic data, and they need to be able to prove compliance with these policies to avoid unfavorable rulings resulting from failing to produce data that is relevant to a case.Security professionals may be involved in proving to a court’s satisfaction that stored data has not been tampered with.To whom it applies:\\xa0Any company that is — or could be — involved in a civil lawsuit within the federal courts. Because states have adopted FRCP-like rules, companies involved in litigation within a state court system are also affected.Key points for CISOs:\\xa0Security professionals may be involved in proving to a court’s satisfaction that stored data has not been tampered with. There are 13 sections to the FCRP. Chapter 5, Rules 26-37 require a detailed understanding of electronic data retention policies and procedures, what data exists and where, as well as the ability to search for and produce this data within the timeframes stipulated. These rules:Return to topPurpose:\\xa0Enacted in 2002,\\xa0FISMA\\xa0requires federal agencies to implement a program to provide security for their information and information systems, including those provided or managed by another agency or contractor. It is Title III of the E-Government Act of 2002.To whom it applies:\\xa0Federal agencies.Key points for CISOs:\\xa0FISMA recommends that an effective security program include:Return to topPurpose:\\xa0The\\xa0NERC\\xa0standards were developed to establish and enforce reliability standards for the bulk electric systems (BES) of North America, as well as protect the industry’s critical infrastructure from physical and cyber threats. These overall standards became mandatory and enforceable in the US on June 18, 2007. Critical Infrastructure Protection (CIP) elements of the reliability standard have been subsequently updated, most recently in 2009. CIP standards include identification and protection of both physical assets and digital systems.To whom it applies:\\xa0North American electric utilities.Key points for CISOs:\\xa0NERC standards fall into 14 categories, but CIP is the most relevant to security. CIP has 12 sections:More about the NERC standardsUS bulk energy providers must now report attempted breachesReturn to topPurpose:\\xa0Part 11, as it is commonly called, was issued in 1997 and is monitored by the US Food and Drug Administration (FDA). It imposes guidelines on electronic records and electronic signatures to uphold their reliability and trustworthiness.To whom it applies:\\xa0All FDA-regulated industries that use computers for regulated activities, both in the US and outside the country.Key points for CISOs:\\xa0Part 11 has 19 requirements, the most important of which include:Return to topPurpose:\\xa0Enacted in 1996,\\xa0HIPAA\\xa0is intended to improve the efficiency and effectiveness of the healthcare system. As such, it requires the adoption of national standards for electronic health care transactions and code sets, as well as unique health identifiers for providers, health insurance plans and employers. (HIPAA’s requirements are significantly updated by the HITECH Act — see next entry).The complete suite of rules is known as the HIPAA Administrative Simplification Regulations. It is administered by The Centers for Medicare & Medicaid Services and The Office for Civil Rights.To whom it applies:\\xa0Healthcare providers, health plans, health clearinghouses and “business associates,” including people and organizations that perform claims processing, data analysis, quality assurance, billing, benefits management, etc.Key points for CISOs:\\xa0Recognizing that electronic technology could erode the privacy of health information, the law also incorporates provisions for guarding the security and privacy of personal health information. It does this by enforcing national standards to protect:More about HIPAAHIPAA compliance report cardHIPAA explained: definition, compliance, and violationsReturn to topPurpose:\\xa0Part of the American Recovery and Reinvestment Act of 2009, the\\xa0HITECH Act\\xa0adds to HIPAA new requirements concerning privacy and security for patient health information. It widens the scope of privacy and security protections available under HIPAA, increases the potential legal liability for non-compliance and provides for more enforcement.To whom it applies:\\xa0Healthcare providers, health plans, health clearinghouses and “business associates,” including people and organizations that perform claims processing, data analysis, quality assurance, billing, benefits management, etc.Key points for CISOs:\\xa0The HITECH Act:Return to topPurpose:\\xa0Enacted on January 19, 2009,\\xa0PSQIA\\xa0establishes a voluntary reporting system to enhance the data available to assess and resolve patient safety and healthcare quality issues. To encourage the reporting and analysis of medical errors, PSQIA provides federal privilege and confidentiality protections for patient safety information, which includes information collected and created during the reporting and analysis of patient safety events.These confidentiality provisions are intended to improve patient safety outcomes by creating an environment where providers may report and examine patient safety events without fear of increased liability risk. The Office of Civil Rights administers and enforces the confidentiality protections provided to PSWP. The Agency of Healthcare Research and Quality administers the provisions dealing with PSOs.To whom it applies:\\xa0Healthcare providers, patients and individuals/entities that report medical errors or other patient safety events.Key points for CISOs:Return to topPurpose:\\xa0The\\xa0CFATS\\xa0regulation went into effect in 2007 and was developed as part of the US Department of Homeland Security Appropriations Act. It imposes federal security regulations for high-risk chemical facilities, requiring covered chemical facilities to prepare security vulnerability assessments and to develop and implement site security plans that include measures to satisfy the identified risk-based performance standards.To whom it applies:\\xa0Chemical facilities, including manufacturing; storage and distribution; energy and utilities; agriculture and food; paints and coatings; explosives; mining; electronics; plastics; and healthcare.Key requirements/provisions:\\xa0CFATS uses risk-based performance standards rather than prescriptive standards. Security measures vary depending on each facility’s determined level of risk. DHS created a tiered system and assigned chemical facilities into one of four “risk” tiers, ranging from high (Tier 1) to low (Tier 4) risk. Tier assignment is based on an assessment of the potential consequences of a successful attack on assets associated with chemicals of interest. Once assigned a tier, facilities must comply with\\xa018 categories of risk-based performance standards.Return to topPurpose:\\xa0The\\xa0California Consumer Privacy Act (CCPA)\\xa0is a law that allows any California consumer to demand to see all the information a company has saved on them, as well as a full list of all the third parties that data is shared with. The CCPA also allows consumers to sue companies if the privacy guidelines are violated, even if there is no breach.To whom it applies:\\xa0All companies that serve California residents and have at least $25 million in annual revenue must comply with the law. In addition, companies of any size that have personal data on at least 50,000 people or that collect more than half of their revenues from the sale of personal data also fall under the law. Companies don’t have to be based in California or have a physical presence there to fall under the law. They don’t even have to be based in the United States. A later amendment exempts “insurance institutions, agents, and support organizations” as they are already subject to similar regulations under California’s Insurance Information and Privacy Protection Act (IIPPA).Key points for CISOs:\\xa0The CCPA defines personal data as:Businesses are not required to report breaches under AB 375, and consumers must file complaints before fines are possible. The best course of action for security, then, is to know what data AB 375 defines as private data and take steps to secure it.More about the CCPACalifornia Consumer Privacy Act (CCPA): What you need to know to be compliantReturn to topPurpose: The\\xa0CPRA, which will go into effect on January 1, 2023, revises the CCPA and creates a new consumer privacy agency. The act toughens some aspects of the CCPA while removing some smaller companies from its requirements.To whom it applies:\\xa0All companies that serve California residents and have at least $25 million in annual revenue must comply with the law. In addition, companies of any size that have personal data on at least 100,000 residents or households or that collect more than half of their revenues from the sale of personal data also fall under the law.Key points for CISOs:\\xa0The CPRA:More about the CPRACPRA explained: New California privacy law ramps up restrictions on data useReturn to topPurpose:\\xa0Signed into law on June 8, 2021, the\\xa0Colorado law\\xa0gives consumers residing in Colorado more power to control their PII held by commercial entities, much like the California Consumer Privacy Act.To whom it applies:\\xa0Any entity that conducts business in Colorado or produces or delivers commercial products and services to the state’s residents and meets these criteria:Key points for CISOs:\\xa0Like other privacy regulations the Colorado law distinguishes between processors and controllers. However, it requires processors to assist controllers with compliance, including having technical and organizational means to:Return to topPurpose:\\xa0The\\xa0Connecticut law\\xa0goes into effect on July 1, 2023. It gives the state’s residents the right to confirm whether an entity is processing their personal data, to have access to that data in a portable and usable format, and to correct inaccuracies or delete data.To whom it applies:\\xa0Persons who conduct business in Connecticut or produce products or services that targeted the state’s residents, and that control or process the personal data of 100,000 or more Connecticut residents or 25,000 or more residents if the business derives more than 25% of its gross revenue from the sale of personal data.\\xa0The law excludes residents whose personal data is controlled or processed only to complete a payment transactionKey points for CISOs:\\xa0Organizations must also provide a “secure and reliable” means for consumers to exercise their rights under the law, though the law does not provide guidance on those means. The law also requires data controllers to document its data protection assessments for each processing activity that presents a heightened risk of harm to the consumer.Return to topPurpose:\\xa0The Maine law, which went into effect on July 1, 2020, bars broadband internet access providers from “using, disclosing, selling or permitting access to customer personal information unless the customer expressly consents to that use, disclosure, sale or access,” with some exceptions. The bill further requires providers to take reasonable measures to protect customer personal information from unauthorized use, disclosure, sale or access.To whom it applies:\\xa0Broadband internet access providersKey points for CISOs:\\xa0The law defines personal information is defined as “personally identifiable customer information” about the customer and information derived from the customer’s use of broadband internet access services such as web browsing history, geolocation data, device identifiers and a number of other technical data points that can be used to identify individuals.Return to topPurpose:\\xa0Approved by Governor Larry Hogan on April 30, 2019 and effective as of October 1, 2019, the\\xa0law\\xa0extends the state’s existing data breach requirements to personal information\\xa0maintained by a business in addition to personal information owned or licensed by a business.To whom it applies:\\xa0Any business that own licenses or maintain personal information on Maryland residents.Key points for CISOs:\\xa0Businesses are also now required to conduct in good faith a reasonable and prompt investigation to determine the likelihood that personal information of the individual has been or will be misused as a result of the breach.\\xa0Businesses that simply maintain personal data may not charge the owner or licensee a fee for providing the information needed to notify Maryland residents. The law also places certain limitations on information relative to the breach.Return to topWhat it covers:\\xa0This\\xa0Massachusetts law, which went into effect March 2010, works to protect the state’s residents against fraud and identity theft. It requires that any business that stores or uses personally identifiable information about a Massachusetts resident develop a written, regularly audited plan to protect this information. It takes a risk-based approach rather than a prescriptive one. It directs businesses to establish a security program that takes into account the business size, scope, resources, nature and quantity of data collected or stored and the need for security rather than requiring the adoption of every component of a stated program.To whom it applies:\\xa0Businesses that collect and retain personal information of Massachusetts residents in connection with the provision of goods and services or for the purpose of employment.Key points for CISOs:\\xa0Key requirements include:Return to topPurpose:\\xa0Effective April 11, 2019,\\xa0Bill H.4806\\xa0places new requirements around breach notificationsTo whom it applies:\\xa0Any company that does business in MassachusettsKey points for CISOs:\\xa0The law:Return to topPurpose:\\xa0Nevada enacted\\xa0NRS 603A\\xa0in January 2010, making it the first state with a data security law that mandates encryption for customers’ stored and transported personal information.To whom it applies:\\xa0Businesses that collect and retain personal information of Nevada residents.Key points for CISOs:\\xa0The law contains these requirements:Return to topPurpose:\\xa0Effective as of September 1, 2019,\\xa0the bill\\xa0treats credentials for any online account, including a personal account, as personal information subject to state breach notification laws.To whom it applies:\\xa0Any company that does business in New Jersey.Key points for CISOs:\\xa0The bill considers the following personal information:The law also clarifies that any relevant entity may not provide data breach notifications through email accounts that have been affected by a security breach and must find some other notification method.Return to topPurpose:\\xa0The\\xa0new rules\\xa0in 23 NYCRR 500, adopted\\xa0on February 16, 2017, place minimum cybersecurity requirements on covered financial institutions. Each company must assess its risk profile and design a program that addresses its risks.To whom it applies:\\xa0Any DFS-regulated entity doing business in New York that has more than 10 employees, more than $5 million a year in revenue, and year-end assets exceeding $10 millionKey points for CISOs:\\xa0Companies that fall under the regulation must establish an internal cybersecurity program to protect information assets under their control. Smaller entities must meet other obligations, including limiting access to information, assessing their risk, implementing policies related to third-party data control, and their own data disposition. All regulated entities must report data breaches, regardless of size, designate a CISO and maintain audit trails.More on\\xa0 23 NYCRR 500What is the New York Cybersecurity Regulation? What you need to do to complyReturn to topPurpose:\\xa0The Stop Hacks and Improve Electronic Data Security Act\\xa0(Senate Bill S5575B), signed into law on July 25, 2019, expands the state’s current data breach law and imposes cybersecurity obligations on covered entities.To whom it applies:\\xa0Any person or entity with private information of a New York resident, not just to those that conduct business in New York StateKey points for CISOs:\\xa0The bill:Return to topPurpose:\\xa0Effective as of October 1, 2019, the\\xa0legislation\\xa0amends state law by expanding the definition of personal information under the statute to include online account credentials.To whom it applies:\\xa0Any company that does business in OregonKey points for CISOs:\\xa0The bill creates, with some exceptions, additional notification obligations for “vendors” that maintain or process personal information on behalf of other businesses, who will also be required to notify the Oregon attorney general if the personal information of more than 250 residents (or an indeterminate number of residents) is involved. All vendors must notify the relevant business, and a sub-vendor must notify the relevant vendor, within 10 days of discovering or having reason to believe a security breach occurred.Purpose:\\xa0Effective as of January 1, 2020, the\\xa0legislation\\xa0amends state law to change the time period for breach notification.To whom it applies:\\xa0Any business that owns or process personal information on Texas residents.Key points for CISOs:\\xa0The breach notification timeframe changes from “as quickly as possible” to “without unreasonable delay and in each case not later than the 60th day after the date on which the person determines that the breach occurred.” If the breach affects more than 250 residents of the state, a person who is required to disclose or provide notification of a breach of system security under this section shall notify the attorney general of that breach not later than the 60th day after the date on which the person determines that the breach occurred.The notification must also contain a detailed description of the breach, the number of affected Texas residents, the measures taken by the breached entity in response to the incident and whether law enforcement has been engaged.Return to topPurpose:\\xa0The Utah Consumer Privacy Act goes into effect December 31, 2023. It gives consumers more control over the data businesses control and process, including opting out of data collection. It also places requirements on safeguarding consumer data.To whom it applies:\\xa0Any organization that conducts business in Utah or produces products or services that target Utah residents, has annual revenues of $25 million or more,\\xa0and\\xa0either processes personal data of 100,000 or more Utah residents or\\xa0derives more than 50% of its gross revenue from the sale of personal data and controls or processes the personal data of 25,000 or more Utah consumers.Key points for CISOs:\\xa0The Utah law is unusual in that it requires no data protection or risk assessments or cybersecurity audits.Return to topPurpose:\\xa0Effective January 1, 2023,\\xa0the CDPA\\xa0presents a framework for how companies that do business in Virginia control or process personal data.\\xa0To whom it applies:\\xa0The bill’s provisions apply only to businesses that control or process personal information of at least 100,000 consumers, defined as Virginia residents, or companies that control or process the data of at least 25,000 Virginia residents that also derive 50% or more of their gross revenue from the sale of personal data.Key points for CISOs:\\xa0The CDPA gives Virginia consumers the right to access, correct, delete, and obtain a copy of the personal information that covered businesses hold about them. Businesses, referred to as controllers, must perform impact assessments to ensure they are not infringing on consumers’ rights when processing their data. Controllers must implement appropriate technical and security controls and have appropriate agreements in place with vendors, referred to as processors. The bill also places conditions on controllers that make de-identification of data more difficult.Return to topPurpose:\\xa0Effective as of March 1, 2020,\\xa0the law\\xa0expands the scope of Washington’s existing data breach law by revising the statutory definition of personal information.To whom it applies:\\xa0Any company that does business in Washington State.Key points for CISOs:\\xa0The definition of personal information now includes an individual’s first name or initial and last name in combination with other data elements such as full date of birth, student ID number, passport number, health insurance policy or identification number, private key that is unique to an individual and that is used to authenticate or sign an electronic record, medical information and biometric information.Businesses now only have 30 days, rather than 45 days, to deliver the required notifications. Notifications must include a timeframe of exposure, if known, including the date of the breach and the date of the discovery of the breach, the types of personal information affected, a summary of steps taken to contain the breach, and a sample copy of the breach notification sent to Washington residents. A business must update the attorney general if all this information is unknown at the time of the breach.Return to topPurpose:\\xa0PIPEDA\\xa0governs how public and private organizations collect, use and disclose personal information in the course of business. It went into effect in January 2001 for federally regulated organizations and in January 2004 for all others. In May 2010,\\xa0Bill C-29\\xa0introduced amendments to PIPEDA, involving exceptions for the use and disclosure of personal information without consent and further requirements for business transactions.To whom it applies:\\xa0All private-sector companies doing business in Canada.Key points for CISOs:\\xa0PIPEDA establishes ten principles to govern the collection, use and disclosure of personal information:Return to topPurpose:\\xa0Effective November 1, 2021,\\xa0PIPL\\xa0serves the dual purpose of protecting individual’s privacy and ensuring China’s national security. It regulates how data on Chinese citizens is stored and processed in the country with the intent to preserve China’s digital sovereignty.To whom it applies:\\xa0Any organization that collects and processes information of Chinese citizens.Key points for CISOs:\\xa0The law is vague on how the specifics of the regulation and how it will be enforced as regulatory proceedings to define compliance have not yet taken place. What CISOs need to be most concerned about is how they handle cross-border information flows. For example, if an entity outside of China processes data that falls under this law, then that entity might need to set up a presence within China.Return to topPurpose:\\xa0The Digital Personal Data Protection Act\\xa0governs the processing of digital personal data “in a manner that recognizes both the right of individuals to protect their personal data and the need to process such personal data for lawful purposes and for matters connected therewith or incidental thereto.” It was signed into law by India’s president on August 11, 2023.To whom it applies:\\xa0Any organization processing digital data or non-digital data of India’s citizens that is later digitized within the country. It also applies to organizations that process the digital data of India’s citizens outside of the country if the organization offers goods or services within the country.Key points for CISOs:\\xa0The Digital Personal Data Protection Act allows for penalties in the case of a data breach. The amount of the penalty depends on these factors:\\xa0Return to topPurpose:\\xa0Published in July 2010,\\xa0this Mexican law\\xa0requires organizations to have a lawful basis — such as consent or legal obligation — for collecting, processing, using and disclosing personally identifiable information. While there is no requirement to notify processing activities to a government body, as in many European countries, companies handling personal data must furnish notice to the affected persons. Individuals must also be notified in the event of a security breach.To whom it applies:\\xa0Mexican businesses, as well as any company that operates or advertises in Mexico or uses Spanish-language call centers and other support services located in Mexico.Key points for CISOs:\\xa0In addition to addressing data retention, the law also incorporates eight general principles that data controllers must follow in handling personal data:Return to topPurpose:\\xa0The European Parliament adopted\\xa0the GDPR\\xa0in April 2016, replacing an outdated data protection directive from 1995. Its provisions require businesses to protect the personal data and privacy of EU citizens for transactions that occur within EU member states. The GDPR also regulates the exportation of personal data outside the EU. The provisions are consistent across all EU member states, so companies have just one standard to meet within the EU. However, that standard is high and requires most companies to make a large investment to meet and administer.To whom it applies:\\xa0Any company that stores or processes personal information about EU citizens within EU states, even if they do not have a business presence within the EU. Criteria for companies required to comply are:Key points for CISOs:\\xa0The GDPR requires the protection of the following personal data:The GDPR places equal liability on organizations that own the data and third-party data processors. That means both are subject to fines in case of a breach or complaint. Organizations are responsible to ensure that their third-party data processors are GDPR compliant.More on the GDPRGeneral Data Protection Regulation (GDPR): What you need to know to stay compliantReturn to top'"
            ],
            "application/vnd.google.colaboratory.intrinsic+json": {
              "type": "string"
            }
          },
          "metadata": {},
          "execution_count": 19
        }
      ]
    },
    {
      "cell_type": "code",
      "source": [
        "now_utc = datetime.now(pytz.utc)\n",
        "now_ist = now_utc.astimezone(ist)\n",
        "formatted_date_time_ist = now_ist.strftime(\"%m%d%y %H:%M:%S\")\n",
        "json_data = []\n",
        "# Create the JSON object\n",
        "text_object_json = {\n",
        "                                \"text\": text,\n",
        "                                \"metadata\": {\n",
        "                                \"date_downloaded\": formatted_date_time_ist,\n",
        "                                    \"site_url\": url,\n",
        "                                    \"extra_data\": {\n",
        "                                        \"heading\": \"Mass. Money Transmission Bill Protects Consumers, Levels Regulatory Playing Field, Payment Apps Get Regulated, Users Safeguarded at State Level\",\n",
        "                                        \"type_of_data\":\"news article\"\n",
        "                                    }\n",
        "                                },\n",
        "                                \"volunteer_id\": \"2121\",\n",
        "                                \"location\": \"Pune, Maharashtra, India\"\n",
        "                            }\n",
        "\n",
        "# Append the JSON object to json_data list\n",
        "json_data.append(text_object_json)"
      ],
      "metadata": {
        "id": "sc8g511IT54E"
      },
      "execution_count": 8,
      "outputs": []
    },
    {
      "cell_type": "code",
      "source": [
        "json_data"
      ],
      "metadata": {
        "colab": {
          "base_uri": "https://localhost:8080/"
        },
        "id": "zu5oyJgrVGew",
        "outputId": "f931f89a-d2d3-469a-85f8-e8e1768a6a48"
      },
      "execution_count": 9,
      "outputs": [
        {
          "output_type": "execute_result",
          "data": {
            "text/plain": [
              "[{'text': 'Mary GallagherVenmo, PayPal, CashApp. Chances are you are using a money transmission platform like these, or someone you know is. In 2022, Massachusetts residents transmitted an astounding $22 billion in 172 million peer-to-peer payments across the state and nation – with zero state regulatory oversight.Those using these platforms may think their transactions are protected by a federal regulator such as the Federal Deposit Insurance Corp. or the Federal Reserve. They are not. The reality is that state financial regulators are the authority for this activity – but not here in Massachusetts.The Massachusetts Division of Banks (DOB), where I serve as commissioner, currently licenses and examines companies which transmit money to foreign countries only (by statute). However, there is no regulatory oversight in the commonwealth for transfers of money between individuals or entities within the United States, commonly referred to as “domestic” money transmissions. This means, for example, that if your account is hacked or your money transfer is compromised in any way, you are not protected by state oversight and there is little that can be done to right the wrong.It is worth noting that domestic transmission activity dwarfs the regulated space of foreign transmission, where just $10 billion was transmitted in 32 million transactions, according to NMLS call reports reviewed by DOB staff. So, in Massachusetts, the existing regulatory framework accounts for only 12 percent of the total transaction volume and just 27 percent of the total dollars transmitted.“An Act relative to the regulation of money transmission by the Division of Banks” (H.1106), sponsored by state Rep. James M. Murphy (D-Weymouth), aims to change this. Given the millions of transactions and billions of dollars flowing through money transmission applications – a volume that increased by 55 percent from 2020 to 2022 – this bill is a legislative priority for the DOB.How the Bill WorksBy modernizing existing Massachusetts law governing money transmission services to reflect the current day marketplace, H.1106 will bring Massachusetts in line with the rest of the country in protecting consumers engaging in money transfers. As it currently stands, Massachusetts is the only state (of 49 that regulate money transmission) that has not enacted legislation to regulate domestic money transmissions amongst its consumers. The current state law was last updated in 1991 and still includes technology references from the early 1900s. H.1106 will catapult the law into the 21st century.While expanding Massachusetts’ reputation for strong consumer protections, H.1106 will also level the playing field for regulations across businesses. For example, DOB currently oversees banks and credit unions who offer these same services subject to significant regulatory oversight. H.1106 would establish consistent supervision for non-bank entities offering the same services.Currently, DOB has no insight into the financial or compliance position of non-bank companies offering domestic money transfers in Massachusetts. Therefore, DOB is not able to provide any assistance to Massachusetts consumers should they be harmed by these currently unregulated entities. This bill would establish a single statutory framework for the licensing, examination and regulation by DOB for all money transmitters, both foreign and domestic, in the commonwealth.Bill Has Industry SupportIndustry support for H.1106 is both broad and strong. Notably, six trade associations representing a diverse membership of professionals in the payments industry, have offered supportive testimony: The Money Services Business Association, Technet, The Electronic Transactions Association, The Money Services Round Table, The Financial Technology Association and The Money Services Business Association. In addition, Western Union and the Massachusetts Bankers Association have offered support.Our commitment to this effort includes active engagement in a state-led model law effort across the country. Since 2022, state banking departments have built a coalition with the industry’s largest players in the money transmission arena. H.1106 uses the Conference of State Bank Supervisors’ model law as its foundation with a goal of aligning with this multi-state effort particularly as the activity happens across state lines. In current legislative sessions to date, 16 states have already passed the model law either in its entirety or with key substantive provisions. In addition, there are five states with bills pending, consistent with the model law – including Massachusetts H.1106.By adopting the model law framework, states are moving toward uniform nationwide standards that enhance regulatory efficiencies and reduce the regulatory burden on the industry. The goal of this “networked supervision” approach is to create an inclusive national system using common policies to prioritize work based on risk and resource availability.So, next time you Venmo a friend your half of the dinner check, think about H.1106. Without this bill’s enactment, your transfer app payments occur without regulatory oversight and are not protected. Whether you are a consumer using money transmission apps, or an industry professional offering these services, H.1106 is a win-win. I invite you to learn more about this important legislation at malegislature.gov/Bills/193/H1106.Mary Gallagher is the commissioner of the Massachusetts Division of Banks, the state’s primary regulator for financial service providers.',\n",
              "  'metadata': {'date_downloaded': '062124 16:59:55',\n",
              "   'site_url': 'https://bankerandtradesman.com/mass-money-transmission-bill-protects-consumers-levels-regulatory-playing-field/',\n",
              "   'extra_data': {'heading': 'Mass. Money Transmission Bill Protects Consumers, Levels Regulatory Playing Field, Payment Apps Get Regulated, Users Safeguarded at State Level',\n",
              "    'type_of_data': 'news article'}},\n",
              "  'volunteer_id': '2121',\n",
              "  'location': 'Pune, Maharashtra, India'}]"
            ]
          },
          "metadata": {},
          "execution_count": 9
        }
      ]
    },
    {
      "cell_type": "code",
      "source": [
        "# Save json_data to a JSON file\n",
        "import json\n",
        "output_file = \"Mass._Money_Transmission_Bill_Protects_Consumers_,_Payment_Apps_Get_Regulated,_Users_Safeguarded_at_State_Level.json\"\n",
        "with open(output_file, \"w\", encoding=\"utf-8\") as f:\n",
        "    json.dump(json_data, f, ensure_ascii=False, indent=4)"
      ],
      "metadata": {
        "id": "rU7WyUrrFqOI"
      },
      "execution_count": 10,
      "outputs": []
    },
    {
      "cell_type": "code",
      "source": [
        "with open('Mass._Money_Transmission_Bill_Protects_Consumers_,_Payment_Apps_Get_Regulated,_Users_Safeguarded_at_State_Level.json', \"r\", encoding=\"utf-8\") as f:\n",
        "    new_data = json.load(f)"
      ],
      "metadata": {
        "id": "e0j2oS3_GAgA"
      },
      "execution_count": 11,
      "outputs": []
    },
    {
      "cell_type": "code",
      "source": [
        "len(new_data)"
      ],
      "metadata": {
        "colab": {
          "base_uri": "https://localhost:8080/"
        },
        "id": "YmN_di3VV8OE",
        "outputId": "10bced6b-dd07-4f6f-d445-6d1af3e2fcb0"
      },
      "execution_count": 12,
      "outputs": [
        {
          "output_type": "execute_result",
          "data": {
            "text/plain": [
              "1"
            ]
          },
          "metadata": {},
          "execution_count": 12
        }
      ]
    },
    {
      "cell_type": "code",
      "source": [
        "new_data"
      ],
      "metadata": {
        "colab": {
          "base_uri": "https://localhost:8080/"
        },
        "id": "wSHZS50WkVSc",
        "outputId": "0d260c81-3cdb-46c3-b6da-8e6a8863320c"
      },
      "execution_count": 13,
      "outputs": [
        {
          "output_type": "execute_result",
          "data": {
            "text/plain": [
              "[{'text': 'Mary GallagherVenmo, PayPal, CashApp. Chances are you are using a money transmission platform like these, or someone you know is. In 2022, Massachusetts residents transmitted an astounding $22 billion in 172 million peer-to-peer payments across the state and nation – with zero state regulatory oversight.Those using these platforms may think their transactions are protected by a federal regulator such as the Federal Deposit Insurance Corp. or the Federal Reserve. They are not. The reality is that state financial regulators are the authority for this activity – but not here in Massachusetts.The Massachusetts Division of Banks (DOB), where I serve as commissioner, currently licenses and examines companies which transmit money to foreign countries only (by statute). However, there is no regulatory oversight in the commonwealth for transfers of money between individuals or entities within the United States, commonly referred to as “domestic” money transmissions. This means, for example, that if your account is hacked or your money transfer is compromised in any way, you are not protected by state oversight and there is little that can be done to right the wrong.It is worth noting that domestic transmission activity dwarfs the regulated space of foreign transmission, where just $10 billion was transmitted in 32 million transactions, according to NMLS call reports reviewed by DOB staff. So, in Massachusetts, the existing regulatory framework accounts for only 12 percent of the total transaction volume and just 27 percent of the total dollars transmitted.“An Act relative to the regulation of money transmission by the Division of Banks” (H.1106), sponsored by state Rep. James M. Murphy (D-Weymouth), aims to change this. Given the millions of transactions and billions of dollars flowing through money transmission applications – a volume that increased by 55 percent from 2020 to 2022 – this bill is a legislative priority for the DOB.How the Bill WorksBy modernizing existing Massachusetts law governing money transmission services to reflect the current day marketplace, H.1106 will bring Massachusetts in line with the rest of the country in protecting consumers engaging in money transfers. As it currently stands, Massachusetts is the only state (of 49 that regulate money transmission) that has not enacted legislation to regulate domestic money transmissions amongst its consumers. The current state law was last updated in 1991 and still includes technology references from the early 1900s. H.1106 will catapult the law into the 21st century.While expanding Massachusetts’ reputation for strong consumer protections, H.1106 will also level the playing field for regulations across businesses. For example, DOB currently oversees banks and credit unions who offer these same services subject to significant regulatory oversight. H.1106 would establish consistent supervision for non-bank entities offering the same services.Currently, DOB has no insight into the financial or compliance position of non-bank companies offering domestic money transfers in Massachusetts. Therefore, DOB is not able to provide any assistance to Massachusetts consumers should they be harmed by these currently unregulated entities. This bill would establish a single statutory framework for the licensing, examination and regulation by DOB for all money transmitters, both foreign and domestic, in the commonwealth.Bill Has Industry SupportIndustry support for H.1106 is both broad and strong. Notably, six trade associations representing a diverse membership of professionals in the payments industry, have offered supportive testimony: The Money Services Business Association, Technet, The Electronic Transactions Association, The Money Services Round Table, The Financial Technology Association and The Money Services Business Association. In addition, Western Union and the Massachusetts Bankers Association have offered support.Our commitment to this effort includes active engagement in a state-led model law effort across the country. Since 2022, state banking departments have built a coalition with the industry’s largest players in the money transmission arena. H.1106 uses the Conference of State Bank Supervisors’ model law as its foundation with a goal of aligning with this multi-state effort particularly as the activity happens across state lines. In current legislative sessions to date, 16 states have already passed the model law either in its entirety or with key substantive provisions. In addition, there are five states with bills pending, consistent with the model law – including Massachusetts H.1106.By adopting the model law framework, states are moving toward uniform nationwide standards that enhance regulatory efficiencies and reduce the regulatory burden on the industry. The goal of this “networked supervision” approach is to create an inclusive national system using common policies to prioritize work based on risk and resource availability.So, next time you Venmo a friend your half of the dinner check, think about H.1106. Without this bill’s enactment, your transfer app payments occur without regulatory oversight and are not protected. Whether you are a consumer using money transmission apps, or an industry professional offering these services, H.1106 is a win-win. I invite you to learn more about this important legislation at malegislature.gov/Bills/193/H1106.Mary Gallagher is the commissioner of the Massachusetts Division of Banks, the state’s primary regulator for financial service providers.',\n",
              "  'metadata': {'date_downloaded': '062124 16:59:55',\n",
              "   'site_url': 'https://bankerandtradesman.com/mass-money-transmission-bill-protects-consumers-levels-regulatory-playing-field/',\n",
              "   'extra_data': {'heading': 'Mass. Money Transmission Bill Protects Consumers, Levels Regulatory Playing Field, Payment Apps Get Regulated, Users Safeguarded at State Level',\n",
              "    'type_of_data': 'news article'}},\n",
              "  'volunteer_id': '2121',\n",
              "  'location': 'Pune, Maharashtra, India'}]"
            ]
          },
          "metadata": {},
          "execution_count": 13
        }
      ]
    }
  ]
}